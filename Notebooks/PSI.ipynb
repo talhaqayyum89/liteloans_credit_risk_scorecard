{
 "cells": [
  {
   "cell_type": "markdown",
   "metadata": {},
   "source": [
    "# PSI"
   ]
  },
  {
   "cell_type": "markdown",
   "metadata": {},
   "source": [
    "Over time  the ability to correctly predict probability of default (or correctly classify customers as good or bad) change with time due to drift. Drift (Shift) could arise as a result of different factors. Data being one of them.\n",
    "\n",
    "Being able to track this drift is necessary, as a major drift or shift would require a complete remodelling of the score card.\n",
    "\n",
    "**WHEN:**\n",
    "* PSI < 0.1 - No change. You can continue using existing model.\n",
    "* PSI >=0.1 but less than 0.2 - Slight change is required.\n",
    "* PSI >=0.2 - Significant change is required. Ideally, you should not use this model any more."
   ]
  },
  {
   "cell_type": "code",
   "execution_count": 1,
   "metadata": {},
   "outputs": [],
   "source": [
    "%matplotlib inline\n",
    "import numpy as np\n",
    "import pandas as pd\n",
    "import seaborn as sns\n",
    "import matplotlib.pyplot as plt\n",
    "\n",
    "import warnings\n",
    "warnings.filterwarnings(\"ignore\")\n",
    "#from psi import calculate_psi"
   ]
  },
  {
   "cell_type": "code",
   "execution_count": 45,
   "metadata": {},
   "outputs": [],
   "source": [
    "Q1 = pd.read_excel('psi 01-06 forin model vars.xlsx')\n",
    "train=pd.read_excel('train psi.xlsx')\n"
   ]
  },
  {
   "cell_type": "code",
   "execution_count": 28,
   "metadata": {},
   "outputs": [
    {
     "data": {
      "text/html": [
       "<div>\n",
       "<style scoped>\n",
       "    .dataframe tbody tr th:only-of-type {\n",
       "        vertical-align: middle;\n",
       "    }\n",
       "\n",
       "    .dataframe tbody tr th {\n",
       "        vertical-align: top;\n",
       "    }\n",
       "\n",
       "    .dataframe thead th {\n",
       "        text-align: right;\n",
       "    }\n",
       "</style>\n",
       "<table border=\"1\" class=\"dataframe\">\n",
       "  <thead>\n",
       "    <tr style=\"text-align: right;\">\n",
       "      <th></th>\n",
       "      <th>Unnamed: 0</th>\n",
       "      <th>Day_Diff_Debitgd</th>\n",
       "      <th>Investments_freq_2gd</th>\n",
       "      <th>Vol_ATM_Transactions_Count2gd</th>\n",
       "      <th>AddresLGAgd</th>\n",
       "      <th>Recurring_Debit_Count_2gd</th>\n",
       "      <th>avg_Monthly_cash_flowgd</th>\n",
       "      <th>IntlRemittancesFreq2gd</th>\n",
       "      <th>averageDebitgd</th>\n",
       "      <th>r_avCredit_avDebitgd</th>\n",
       "      <th>minimumCreditgd</th>\n",
       "      <th>GBFlag</th>\n",
       "    </tr>\n",
       "  </thead>\n",
       "  <tbody>\n",
       "    <tr>\n",
       "      <th>0</th>\n",
       "      <td>111</td>\n",
       "      <td>[3.0, 4.0)</td>\n",
       "      <td>[-0.0, 4.0)</td>\n",
       "      <td>[0.1, 3.0)</td>\n",
       "      <td>Others</td>\n",
       "      <td>[111.0, 508.0)</td>\n",
       "      <td>[-4192.0, -1200.0)</td>\n",
       "      <td>[2.1, inf)</td>\n",
       "      <td>[376.0, 501.0)</td>\n",
       "      <td>[3.0, 5.0)</td>\n",
       "      <td>[176.0, inf)</td>\n",
       "      <td>Good</td>\n",
       "    </tr>\n",
       "  </tbody>\n",
       "</table>\n",
       "</div>"
      ],
      "text/plain": [
       "   Unnamed: 0 Day_Diff_Debitgd Investments_freq_2gd  \\\n",
       "0         111       [3.0, 4.0)          [-0.0, 4.0)   \n",
       "\n",
       "  Vol_ATM_Transactions_Count2gd AddresLGAgd Recurring_Debit_Count_2gd  \\\n",
       "0                    [0.1, 3.0)      Others            [111.0, 508.0)   \n",
       "\n",
       "  avg_Monthly_cash_flowgd IntlRemittancesFreq2gd  averageDebitgd  \\\n",
       "0      [-4192.0, -1200.0)             [2.1, inf)  [376.0, 501.0)   \n",
       "\n",
       "  r_avCredit_avDebitgd minimumCreditgd GBFlag  \n",
       "0           [3.0, 5.0)    [176.0, inf)   Good  "
      ]
     },
     "execution_count": 28,
     "metadata": {},
     "output_type": "execute_result"
    }
   ],
   "source": [
    "train.head(1)"
   ]
  },
  {
   "cell_type": "code",
   "execution_count": 38,
   "metadata": {},
   "outputs": [
    {
     "data": {
      "text/plain": [
       "[0, 4.0)      10848\n",
       "[4.0, inf)     2012\n",
       "Name: Investments_freq_2gd, dtype: int64"
      ]
     },
     "execution_count": 38,
     "metadata": {},
     "output_type": "execute_result"
    }
   ],
   "source": [
    "Q1['Investments_freq_2gd'].value_counts()"
   ]
  },
  {
   "cell_type": "code",
   "execution_count": 40,
   "metadata": {},
   "outputs": [],
   "source": [
    "\n",
    "train['Investments_freq_2gd'] = train['Investments_freq_2gd'].astype(str)\n",
    "train['Investments_freq_2gd'] = np.where(train['Investments_freq_2gd'].isin(['[-0.0, 4.0)', '[-999.0, -0.0)']), '[0, 4.0)', train['Investments_freq_2gd'])"
   ]
  },
  {
   "cell_type": "code",
   "execution_count": 47,
   "metadata": {},
   "outputs": [
    {
     "data": {
      "text/plain": [
       "Index(['Unnamed: 0', 'Day_Diff_Debitgd', 'avg_POSVolumegd',\n",
       "       'Vol_ATM_Transactions_Count2gd', 'AddresLGAgd',\n",
       "       'Recurring_Debit_Count_2gd', 'avg_Monthly_cash_flowgd',\n",
       "       'IntlRemittancesFreq2gd', 'averageDebitgd', 'r_avCredit_avDebitgd',\n",
       "       'minimumCreditgd', 'GBFlag'],\n",
       "      dtype='object')"
      ]
     },
     "execution_count": 47,
     "metadata": {},
     "output_type": "execute_result"
    }
   ],
   "source": [
    "Q1.columns"
   ]
  },
  {
   "cell_type": "code",
   "execution_count": 48,
   "metadata": {},
   "outputs": [],
   "source": [
    "def PSI(Train_data, nonTrain_data, feature):\n",
    "    dt = pd.DataFrame(Train_data[feature].value_counts())\n",
    "    dt.rename(columns={feature:'Train'}, inplace=True)\n",
    "    dt['Train %'] = dt['Train']/dt['Train'].sum()\n",
    "    dt['2022 Q1'] = nonTrain_data[feature].value_counts()\n",
    "    dt['2022 Q1 %'] = dt['2022 Q1']/dt['2022 Q1'].sum()\n",
    "    dt['Diff'] = dt['Train %']- dt['2022 Q1 %']\n",
    "    dt['Log'] = np.log(dt['Train %']/dt['2022 Q1 %'])\n",
    "    dt['PSI'] = dt['Diff'] * dt['Log']\n",
    "    dt['sum'] =dt['PSI'].sum()\n",
    "    return dt\n",
    "\n",
    "vars = [col for col in train.columns]\n",
    "vars.remove('Unnamed: 0')\n",
    "\n",
    "\n",
    "Q =Q1[vars] \n",
    "output = {}\n",
    "for var in vars:\n",
    "  \n",
    "  #get PSI\n",
    "  variable = PSI(train, Q, var)\n",
    "  # append to dictionary\n",
    "\n",
    "  output[var]=variable   \n"
   ]
  },
  {
   "cell_type": "code",
   "execution_count": 49,
   "metadata": {},
   "outputs": [
    {
     "data": {
      "text/html": [
       "<div>\n",
       "<style scoped>\n",
       "    .dataframe tbody tr th:only-of-type {\n",
       "        vertical-align: middle;\n",
       "    }\n",
       "\n",
       "    .dataframe tbody tr th {\n",
       "        vertical-align: top;\n",
       "    }\n",
       "\n",
       "    .dataframe thead th {\n",
       "        text-align: right;\n",
       "    }\n",
       "</style>\n",
       "<table border=\"1\" class=\"dataframe\">\n",
       "  <thead>\n",
       "    <tr style=\"text-align: right;\">\n",
       "      <th></th>\n",
       "      <th>Train</th>\n",
       "      <th>Train %</th>\n",
       "      <th>2022 Q1</th>\n",
       "      <th>2022 Q1 %</th>\n",
       "      <th>Diff</th>\n",
       "      <th>Log</th>\n",
       "      <th>PSI</th>\n",
       "      <th>sum</th>\n",
       "    </tr>\n",
       "  </thead>\n",
       "  <tbody>\n",
       "    <tr>\n",
       "      <th>[5.0, 25.0)</th>\n",
       "      <td>503</td>\n",
       "      <td>0.291594</td>\n",
       "      <td>3641</td>\n",
       "      <td>0.283126</td>\n",
       "      <td>0.008468</td>\n",
       "      <td>0.029471</td>\n",
       "      <td>0.000250</td>\n",
       "      <td>0.134497</td>\n",
       "    </tr>\n",
       "    <tr>\n",
       "      <th>[25.0, 47.0)</th>\n",
       "      <td>349</td>\n",
       "      <td>0.202319</td>\n",
       "      <td>2009</td>\n",
       "      <td>0.156221</td>\n",
       "      <td>0.046098</td>\n",
       "      <td>0.258574</td>\n",
       "      <td>0.011920</td>\n",
       "      <td>0.134497</td>\n",
       "    </tr>\n",
       "    <tr>\n",
       "      <th>[0.0, 5.0)</th>\n",
       "      <td>347</td>\n",
       "      <td>0.201159</td>\n",
       "      <td>4536</td>\n",
       "      <td>0.352722</td>\n",
       "      <td>-0.151562</td>\n",
       "      <td>-0.561581</td>\n",
       "      <td>0.085115</td>\n",
       "      <td>0.134497</td>\n",
       "    </tr>\n",
       "    <tr>\n",
       "      <th>[67.0, inf)</th>\n",
       "      <td>347</td>\n",
       "      <td>0.201159</td>\n",
       "      <td>1742</td>\n",
       "      <td>0.135459</td>\n",
       "      <td>0.065701</td>\n",
       "      <td>0.395430</td>\n",
       "      <td>0.025980</td>\n",
       "      <td>0.134497</td>\n",
       "    </tr>\n",
       "    <tr>\n",
       "      <th>[47.0, 67.0)</th>\n",
       "      <td>179</td>\n",
       "      <td>0.103768</td>\n",
       "      <td>932</td>\n",
       "      <td>0.072473</td>\n",
       "      <td>0.031295</td>\n",
       "      <td>0.358948</td>\n",
       "      <td>0.011233</td>\n",
       "      <td>0.134497</td>\n",
       "    </tr>\n",
       "  </tbody>\n",
       "</table>\n",
       "</div>"
      ],
      "text/plain": [
       "              Train   Train %  2022 Q1  2022 Q1 %      Diff       Log  \\\n",
       "[5.0, 25.0)     503  0.291594     3641   0.283126  0.008468  0.029471   \n",
       "[25.0, 47.0)    349  0.202319     2009   0.156221  0.046098  0.258574   \n",
       "[0.0, 5.0)      347  0.201159     4536   0.352722 -0.151562 -0.561581   \n",
       "[67.0, inf)     347  0.201159     1742   0.135459  0.065701  0.395430   \n",
       "[47.0, 67.0)    179  0.103768      932   0.072473  0.031295  0.358948   \n",
       "\n",
       "                   PSI       sum  \n",
       "[5.0, 25.0)   0.000250  0.134497  \n",
       "[25.0, 47.0)  0.011920  0.134497  \n",
       "[0.0, 5.0)    0.085115  0.134497  \n",
       "[67.0, inf)   0.025980  0.134497  \n",
       "[47.0, 67.0)  0.011233  0.134497  "
      ]
     },
     "execution_count": 49,
     "metadata": {},
     "output_type": "execute_result"
    }
   ],
   "source": [
    "output['avg_POSVolumegd']"
   ]
  },
  {
   "cell_type": "code",
   "execution_count": 5,
   "metadata": {},
   "outputs": [],
   "source": [
    "# def woe_iv(Train, Q, variablie_list):   \n",
    "  \n",
    "#     output = {}\n",
    "#     for variable in variablie_list:\n",
    "#         try:\n",
    "#             var = PSI(Train, Q, variable)\n",
    "            \n",
    "#             for i in range(len(var.index.values)):\n",
    "#                 output.setdefault('Variables',[]).append(variable)\n",
    "#                 output.setdefault('Variable PSI',[]).append(var['sum'].values[i])\n",
    "#         except Exception as e:\n",
    "#             pass\n",
    "\n",
    "#     return pd.DataFrame(output)\n",
    "  \n",
    "# dd= woe_iv(Train, Q, cols)"
   ]
  },
  {
   "cell_type": "code",
   "execution_count": 20,
   "metadata": {},
   "outputs": [],
   "source": [
    "def Export_CA_Report(df, variablie_list, GBFlag, fileName='CA_Report'):\n",
    "    \n",
    "    # This inner function estimates WoE and IV which represent CA for all the provided variables\n",
    "    def CA_Report(df, variablie_list, GBFlag):\n",
    "        # Create a dictionary to track CA iteratively\n",
    "        output = {}\n",
    "        for variable in variablie_list:\n",
    "            # use the function for estimating WoE for categorical variables to \n",
    "            var = woe_cat(df, variable, GBFlag)\n",
    "            # append to dictionary\n",
    "            output[variable]=var        \n",
    "\n",
    "        return output\n",
    "    \n",
    "    \n",
    "   # Instatiate above function to CA report for all provided variables\n",
    "    ca_result = CA_Report(df, variablie_list, GBFlag)\n",
    "    # save CA report to Excel\n",
    "    with pd.ExcelWriter(fileName +'.xlsx',mode= 'a', engine=\"openpyxl\", if_sheet_exists='overlay') as writer:\n",
    "        for variable_name, data in ca_result.items():\n",
    "            data.to_excel(writer, sheet_name=variable_name, startcol=14)"
   ]
  },
  {
   "cell_type": "code",
   "execution_count": 21,
   "metadata": {},
   "outputs": [
    {
     "ename": "NameError",
     "evalue": "name 'woe_cat' is not defined",
     "output_type": "error",
     "traceback": [
      "\u001b[1;31m---------------------------------------------------------------------------\u001b[0m",
      "\u001b[1;31mNameError\u001b[0m                                 Traceback (most recent call last)",
      "\u001b[1;32mc:\\Users\\mfajobi\\Desktop\\PSI.ipynb Cell 11'\u001b[0m in \u001b[0;36m<cell line: 3>\u001b[1;34m()\u001b[0m\n\u001b[0;32m      <a href='vscode-notebook-cell:/c%3A/Users/mfajobi/Desktop/PSI.ipynb#ch0000009?line=0'>1</a>\u001b[0m var \u001b[39m=\u001b[39m[col \u001b[39mfor\u001b[39;00m col \u001b[39min\u001b[39;00m train\u001b[39m.\u001b[39mcolumns]\n\u001b[1;32m----> <a href='vscode-notebook-cell:/c%3A/Users/mfajobi/Desktop/PSI.ipynb#ch0000009?line=2'>3</a>\u001b[0m Export_CA_Report(\n\u001b[0;32m      <a href='vscode-notebook-cell:/c%3A/Users/mfajobi/Desktop/PSI.ipynb#ch0000009?line=3'>4</a>\u001b[0m     output, \n\u001b[0;32m      <a href='vscode-notebook-cell:/c%3A/Users/mfajobi/Desktop/PSI.ipynb#ch0000009?line=4'>5</a>\u001b[0m     var ,\n\u001b[0;32m      <a href='vscode-notebook-cell:/c%3A/Users/mfajobi/Desktop/PSI.ipynb#ch0000009?line=5'>6</a>\u001b[0m     \u001b[39m'\u001b[39;49m\u001b[39mGBFlag\u001b[39;49m\u001b[39m'\u001b[39;49m,\n\u001b[0;32m      <a href='vscode-notebook-cell:/c%3A/Users/mfajobi/Desktop/PSI.ipynb#ch0000009?line=6'>7</a>\u001b[0m     \u001b[39m'\u001b[39;49m\u001b[39mCA_Report for in-model vars\u001b[39;49m\u001b[39m'\u001b[39;49m)\n",
      "\u001b[1;32mc:\\Users\\mfajobi\\Desktop\\PSI.ipynb Cell 10'\u001b[0m in \u001b[0;36mExport_CA_Report\u001b[1;34m(df, variablie_list, GBFlag, fileName)\u001b[0m\n\u001b[0;32m     <a href='vscode-notebook-cell:/c%3A/Users/mfajobi/Desktop/PSI.ipynb#ch0000008?line=12'>13</a>\u001b[0m      \u001b[39mreturn\u001b[39;00m output\n\u001b[0;32m     <a href='vscode-notebook-cell:/c%3A/Users/mfajobi/Desktop/PSI.ipynb#ch0000008?line=15'>16</a>\u001b[0m \u001b[39m# Instatiate above function to CA report for all provided variables\u001b[39;00m\n\u001b[1;32m---> <a href='vscode-notebook-cell:/c%3A/Users/mfajobi/Desktop/PSI.ipynb#ch0000008?line=16'>17</a>\u001b[0m  ca_result \u001b[39m=\u001b[39m CA_Report(df, variablie_list, GBFlag)\n\u001b[0;32m     <a href='vscode-notebook-cell:/c%3A/Users/mfajobi/Desktop/PSI.ipynb#ch0000008?line=17'>18</a>\u001b[0m  \u001b[39m# save CA report to Excel\u001b[39;00m\n\u001b[0;32m     <a href='vscode-notebook-cell:/c%3A/Users/mfajobi/Desktop/PSI.ipynb#ch0000008?line=18'>19</a>\u001b[0m  \u001b[39mwith\u001b[39;00m pd\u001b[39m.\u001b[39mExcelWriter(fileName \u001b[39m+\u001b[39m\u001b[39m'\u001b[39m\u001b[39m.xlsx\u001b[39m\u001b[39m'\u001b[39m,mode\u001b[39m=\u001b[39m \u001b[39m'\u001b[39m\u001b[39ma\u001b[39m\u001b[39m'\u001b[39m, engine\u001b[39m=\u001b[39m\u001b[39m\"\u001b[39m\u001b[39mopenpyxl\u001b[39m\u001b[39m\"\u001b[39m, if_sheet_exists\u001b[39m=\u001b[39m\u001b[39m'\u001b[39m\u001b[39moverlay\u001b[39m\u001b[39m'\u001b[39m) \u001b[39mas\u001b[39;00m writer:\n",
      "\u001b[1;32mc:\\Users\\mfajobi\\Desktop\\PSI.ipynb Cell 10'\u001b[0m in \u001b[0;36mExport_CA_Report.<locals>.CA_Report\u001b[1;34m(df, variablie_list, GBFlag)\u001b[0m\n\u001b[0;32m      <a href='vscode-notebook-cell:/c%3A/Users/mfajobi/Desktop/PSI.ipynb#ch0000008?line=5'>6</a>\u001b[0m output \u001b[39m=\u001b[39m {}\n\u001b[0;32m      <a href='vscode-notebook-cell:/c%3A/Users/mfajobi/Desktop/PSI.ipynb#ch0000008?line=6'>7</a>\u001b[0m \u001b[39mfor\u001b[39;00m variable \u001b[39min\u001b[39;00m variablie_list:\n\u001b[0;32m      <a href='vscode-notebook-cell:/c%3A/Users/mfajobi/Desktop/PSI.ipynb#ch0000008?line=7'>8</a>\u001b[0m     \u001b[39m# use the function for estimating WoE for categorical variables to \u001b[39;00m\n\u001b[1;32m----> <a href='vscode-notebook-cell:/c%3A/Users/mfajobi/Desktop/PSI.ipynb#ch0000008?line=8'>9</a>\u001b[0m     var \u001b[39m=\u001b[39m woe_cat(df, variable, GBFlag)\n\u001b[0;32m     <a href='vscode-notebook-cell:/c%3A/Users/mfajobi/Desktop/PSI.ipynb#ch0000008?line=9'>10</a>\u001b[0m     \u001b[39m# append to dictionary\u001b[39;00m\n\u001b[0;32m     <a href='vscode-notebook-cell:/c%3A/Users/mfajobi/Desktop/PSI.ipynb#ch0000008?line=10'>11</a>\u001b[0m     output[variable]\u001b[39m=\u001b[39mvar        \n",
      "\u001b[1;31mNameError\u001b[0m: name 'woe_cat' is not defined"
     ]
    }
   ],
   "source": [
    "var =[col for col in train.columns]\n",
    "\n",
    "Export_CA_Report(\n",
    "    output, \n",
    "    var ,\n",
    "    'GBFlag',\n",
    "    )"
   ]
  },
  {
   "cell_type": "code",
   "execution_count": 18,
   "metadata": {},
   "outputs": [
    {
     "data": {
      "text/plain": [
       "[0.0, 94821.0)          0.30325\n",
       "[94821.0, 189477.0)     0.30325\n",
       "[189477.0, 380401.0)    0.30325\n",
       "[558300.0, inf)         0.30325\n",
       "[380401.0, 558300.0)    0.30325\n",
       "Name: sum, dtype: float64"
      ]
     },
     "execution_count": 18,
     "metadata": {},
     "output_type": "execute_result"
    }
   ],
   "source": [
    "output['total_credit_1gd']"
   ]
  },
  {
   "cell_type": "code",
   "execution_count": 32,
   "metadata": {},
   "outputs": [],
   "source": [
    "#append to excle\n",
    "\n",
    "with pd.ExcelWriter('CA_Report for in-model vars-06-01.xlsx',mode= 'a', engine=\"openpyxl\", if_sheet_exists='overlay') as writer:\n",
    "        for variable_name, data in output.items():\n",
    "            data.to_excel(writer, sheet_name=variable_name, startcol= 15, startrow=1)"
   ]
  },
  {
   "cell_type": "code",
   "execution_count": null,
   "metadata": {},
   "outputs": [],
   "source": [
    "def PSI(Train_data, nonTrain_data, feature):\n",
    "    dt = pd.DataFrame(Train_data[feature].value_counts())\n",
    "    dt.rename(columns={feature:'Train'}, inplace=True)\n",
    "    dt['Train %'] = dt['Train']/dt['Train'].sum()\n",
    "    dt['2022 Q1'] = nonTrain_data[feature].value_counts()\n",
    "    dt['2022 Q1 %'] = dt['2022 Q1']/dt['2022 Q1'].sum()\n",
    "    dt['Diff'] = dt['Train %']- dt['2022 Q1 %']\n",
    "    dt['Log'] = np.log(dt['Train %']/dt['2022 Q1 %'])\n",
    "    dt['PSI'] = dt['Diff'] * dt['Log']\n",
    "    dt['sum'] = dt['PSI'].sum()\n",
    "    return dt"
   ]
  }
 ],
 "metadata": {
  "interpreter": {
   "hash": "974f694f54a02f493e12eb6b1cb55f7f9224502eeb4003e7f82b2e996b0d3812"
  },
  "kernelspec": {
   "display_name": "Python 3.8.13 ('clv')",
   "language": "python",
   "name": "python3"
  },
  "language_info": {
   "codemirror_mode": {
    "name": "ipython",
    "version": 3
   },
   "file_extension": ".py",
   "mimetype": "text/x-python",
   "name": "python",
   "nbconvert_exporter": "python",
   "pygments_lexer": "ipython3",
   "version": "3.8.13"
  },
  "orig_nbformat": 4
 },
 "nbformat": 4,
 "nbformat_minor": 2
}
